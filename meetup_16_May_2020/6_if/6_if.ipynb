{
 "cells": [
  {
   "cell_type": "markdown",
   "metadata": {},
   "source": [
    "## if statement in python\n",
    "- people make decisions everyday, all the time\n",
    "- you have heard of \"if this then that\" phrase\n",
    "- it is also a selection statement "
   ]
  },
  {
   "cell_type": "code",
   "execution_count": 1,
   "metadata": {},
   "outputs": [
    {
     "name": "stdout",
     "output_type": "stream",
     "text": [
      "you can vote!\n"
     ]
    }
   ],
   "source": [
    "# if structure\n",
    "# if <condition>:\n",
    "#    <statement>\n",
    "# elif <condition>:\n",
    "#    <statement>\n",
    "# else:\n",
    "#   <statement>\n",
    "\n",
    "# sample code\n",
    "age = 19\n",
    "if age > 18:\n",
    "    print(\"you can vote!\")\n",
    "else:\n",
    "    print(\"sorry, you can not vote!\")\n"
   ]
  },
  {
   "cell_type": "markdown",
   "metadata": {},
   "source": [
    "### relational operators\n",
    "\n",
    "operator | description | example\n",
    ":--- | :--- | :---\n",
    "== | equal to | if (age == 18)\n",
    "!= | not equal to | if (score != 10)\n",
    "> | greater than | if (people > 50)\n",
    "< | less than | if (count < 30)\n",
    ">= | greater than or equal to | if (price >= 1500)\n",
    "<= | less than or equal to | if (value <= 500)"
   ]
  },
  {
   "cell_type": "code",
   "execution_count": 2,
   "metadata": {},
   "outputs": [
    {
     "name": "stdout",
     "output_type": "stream",
     "text": [
      "Enter a number15\n",
      "Number is odd\n"
     ]
    }
   ],
   "source": [
    "# let's play a game, odd or even\n",
    "\n",
    "n = input(\"Enter a number\")\n",
    "n = int(n)\n",
    "\n",
    "if (n % 2) == 0:\n",
    "    print(\"Number is even\")\n",
    "else:\n",
    "    print(\"Number is odd\")"
   ]
  },
  {
   "cell_type": "code",
   "execution_count": 3,
   "metadata": {},
   "outputs": [
    {
     "name": "stdout",
     "output_type": "stream",
     "text": [
      "These lists have the same value...\n"
     ]
    }
   ],
   "source": [
    "# compare list\n",
    "\n",
    "list_1 = [1, 2, 3]\n",
    "list_2 = [1, 2, 3]\n",
    "\n",
    "if list_1 == list_2:\n",
    "    print(\"These lists have the same value...\")"
   ]
  },
  {
   "cell_type": "code",
   "execution_count": 4,
   "metadata": {},
   "outputs": [
    {
     "name": "stdout",
     "output_type": "stream",
     "text": [
      "None\n"
     ]
    }
   ],
   "source": [
    "# are these lists same objects?\n",
    "\n",
    "if list_1 is list_2:\n",
    "    print(\"These lists are the same list...\")\n",
    "else:\n",
    "    print(None)"
   ]
  },
  {
   "cell_type": "code",
   "execution_count": 5,
   "metadata": {},
   "outputs": [
    {
     "name": "stdout",
     "output_type": "stream",
     "text": [
      "enter a dish name: taco\n",
      "taco is Mexicano\n"
     ]
    }
   ],
   "source": [
    "# couisine checker, this explains if..elif..else\n",
    "\n",
    "indian = [\"samosa\",\"kachori\",\"dal\",\"naan\"]\n",
    "italian = [\"pasta\",\"risotto\",\"lasagna\"]\n",
    "mexican = [\"taco\",\"burrito\",\"tamales\"]\n",
    "\n",
    "dish = input(\"enter a dish name: \")\n",
    "\n",
    "if dish in indian:\n",
    "    print(f\"{dish} is Indiano\")\n",
    "elif dish in italian:\n",
    "    print(f\"{dish} is Italiano\")\n",
    "elif dish in mexican:\n",
    "    print(f\"{dish} is Mexicano\")\n",
    "else:\n",
    "    print(f\"Based on my limited knowledge, I don't know which cuisine is {dish}\")"
   ]
  },
  {
   "cell_type": "code",
   "execution_count": 6,
   "metadata": {},
   "outputs": [
    {
     "name": "stdout",
     "output_type": "stream",
     "text": [
      "ternary operator demo\n",
      "enter a number: 8\n"
     ]
    },
    {
     "data": {
      "text/plain": [
       "'Number is even'"
      ]
     },
     "execution_count": 6,
     "metadata": {},
     "output_type": "execute_result"
    }
   ],
   "source": [
    "# ternary operator\n",
    "\n",
    "print(\"ternary operator demo\")\n",
    "n = input(\"enter a number: \")\n",
    "n = int(n)\n",
    "message = \"Number is even\" if (n % 2) == 0 else \"Number is odd\"\n",
    "message"
   ]
  },
  {
   "cell_type": "code",
   "execution_count": null,
   "metadata": {},
   "outputs": [],
   "source": []
  }
 ],
 "metadata": {
  "kernelspec": {
   "display_name": "Python 3",
   "language": "python",
   "name": "python3"
  },
  "language_info": {
   "codemirror_mode": {
    "name": "ipython",
    "version": 3
   },
   "file_extension": ".py",
   "mimetype": "text/x-python",
   "name": "python",
   "nbconvert_exporter": "python",
   "pygments_lexer": "ipython3",
   "version": "3.7.6"
  }
 },
 "nbformat": 4,
 "nbformat_minor": 4
}
