{
 "cells": [
  {
   "cell_type": "markdown",
   "metadata": {},
   "source": [
    "## loop control statements\n",
    "- python loops are easy\n",
    "- there is for loop and while loop\n",
    "- there is range function that helps looping\n",
    "- we all are faimiliar with infinite loop\n",
    "- you know '1 infinite loop'??\n"
   ]
  },
  {
   "cell_type": "markdown",
   "metadata": {},
   "source": [
    "### loop example in real life\n",
    "- railway ticket counter admin\n",
    "    - greet customer\n",
    "    - ask for destination\n",
    "    - check availibility of ticket\n",
    "    - issue ticket\n",
    "    - collect money\n",
    "    - thanks greeting\n",
    "    \n",
    "  (over and over for every customer)"
   ]
  },
  {
   "cell_type": "code",
   "execution_count": 1,
   "metadata": {},
   "outputs": [
    {
     "name": "stdout",
     "output_type": "stream",
     "text": [
      "total expense is 5700\n"
     ]
    }
   ],
   "source": [
    "# counting loops\n",
    "# four month expense total using simple sum\n",
    "\n",
    "expenses = [1200, 1500, 1300, 1700]\n",
    "total = expenses[0] + expenses[1] + expenses[2] + expenses[3]\n",
    "print(f\"total expense is {total}\")\n"
   ]
  },
  {
   "cell_type": "code",
   "execution_count": 2,
   "metadata": {},
   "outputs": [
    {
     "name": "stdout",
     "output_type": "stream",
     "text": [
      "total expense is 5700\n"
     ]
    }
   ],
   "source": [
    "# let's count it via for loop\n",
    "# we know that expenses is a list containing four elements\n",
    "# we want to sum all of the elements\n",
    "\n",
    "total = 0\n",
    "# use of expense is symbolic, it assumes each value in a collection one by one\n",
    "for expense in expenses:  \n",
    "    total = total + expense\n",
    "print(f\"total expense is {total}\")"
   ]
  },
  {
   "cell_type": "code",
   "execution_count": 3,
   "metadata": {},
   "outputs": [
    {
     "name": "stdout",
     "output_type": "stream",
     "text": [
      "0\n",
      "1\n",
      "2\n",
      "3\n",
      "4\n"
     ]
    }
   ],
   "source": [
    "# range function\n",
    "for number in range(5):\n",
    "    print(number)"
   ]
  },
  {
   "cell_type": "code",
   "execution_count": 4,
   "metadata": {},
   "outputs": [
    {
     "name": "stdout",
     "output_type": "stream",
     "text": [
      "1\n",
      "2\n",
      "3\n",
      "4\n",
      "5\n",
      "6\n",
      "7\n",
      "8\n",
      "9\n",
      "10\n"
     ]
    }
   ],
   "source": [
    "# range function is cool, counting starts with 1 here\n",
    "for number in range(1, 11):\n",
    "    print(number)"
   ]
  },
  {
   "cell_type": "code",
   "execution_count": 5,
   "metadata": {},
   "outputs": [
    {
     "name": "stdout",
     "output_type": "stream",
     "text": [
      "Month 1, expense: 1200\n",
      "Month 2, expense: 1500\n",
      "Month 3, expense: 1300\n",
      "Month 4, expense: 1700\n",
      "\n",
      "Total expenses is 5700\n"
     ]
    }
   ],
   "source": [
    "# let's use range to calculate expense\n",
    "\n",
    "total = 0\n",
    "for i in range(len(expenses)):  # pay attention\n",
    "    print(f\"Month {i+1}, expense: {expenses[i]}\")\n",
    "    total += expenses[i] # total = total + expenses\n",
    "print(f\"\\nTotal expenses is {total}\")"
   ]
  },
  {
   "cell_type": "code",
   "execution_count": 6,
   "metadata": {},
   "outputs": [
    {
     "data": {
      "text/plain": [
       "['CAT', 'DOG', 'GOAT']"
      ]
     },
     "execution_count": 6,
     "metadata": {},
     "output_type": "execute_result"
    }
   ],
   "source": [
    "# enumerate\n",
    "pets = [\"cat\", \"dog\", \"goat\"]\n",
    "for i, pet in enumerate(pets):\n",
    "    pets[i] = pet.upper() # rewrite the list in all caps\n",
    "pets"
   ]
  },
  {
   "cell_type": "code",
   "execution_count": 7,
   "metadata": {},
   "outputs": [
    {
     "name": "stdout",
     "output_type": "stream",
     "text": [
      "Key not found in: sofa\n",
      "Key not found in: garage\n",
      "Key found at: chair\n"
     ]
    }
   ],
   "source": [
    "# break loops, sometime we need to break out of the loops\n",
    "\n",
    "key_location = \"chair\"\n",
    "\n",
    "locations = [\"sofa\",\"garage\",\"chair\",\"table\",\"closet\"]\n",
    "for loc in locations:\n",
    "    if loc == key_location:\n",
    "        print(\"Key found at:\",loc)\n",
    "        break\n",
    "    else:\n",
    "        print(\"Key not found in:\",loc)"
   ]
  },
  {
   "cell_type": "code",
   "execution_count": 8,
   "metadata": {},
   "outputs": [
    {
     "name": "stdout",
     "output_type": "stream",
     "text": [
      "1\n",
      "3\n",
      "5\n",
      "7\n",
      "9\n"
     ]
    }
   ],
   "source": [
    "# continue loops, sometime we need to continue computing till end of the loop\n",
    "# continue: print odd numbers between 1 to 10\n",
    "\n",
    "for i in range(1, 11):\n",
    "    if (i % 2) == 0:\n",
    "        continue\n",
    "    print(i)"
   ]
  },
  {
   "cell_type": "code",
   "execution_count": null,
   "metadata": {},
   "outputs": [],
   "source": [
    "# while loop, event control loop\n",
    "# use while loop sparingly, avoid when you can\n",
    "# simple while loop\n",
    "\n",
    "# while loop\n",
    "num=0\n",
    "while num <= 10:\n",
    "    print(num)\n",
    "    num = num + 1 # also can use num += 1"
   ]
  },
  {
   "cell_type": "code",
   "execution_count": null,
   "metadata": {},
   "outputs": [],
   "source": [
    "# infinite loop, dont do it, hit ctrl+c to break out of infinite loop\n",
    "\n",
    "\"\"\"\n",
    "while count <= 10:\n",
    "    product *= count # forgot to update count \n",
    "\"\"\""
   ]
  },
  {
   "cell_type": "markdown",
   "metadata": {},
   "source": [
    "### iterables, iterators and generators\n",
    "\n",
    "### iterables\n",
    "- In Python, any type which can be iterated over with a for loop is an iterable\n",
    "- lists, tuples, strings and dicts are all iterables\n",
    "- in short iterable has a method for accessing in item by index\n",
    "\n",
    "\n"
   ]
  },
  {
   "cell_type": "code",
   "execution_count": null,
   "metadata": {},
   "outputs": [],
   "source": [
    "pets = [\"cat\", \"dog\", \"goat\"] # pets list is iterable"
   ]
  },
  {
   "cell_type": "code",
   "execution_count": null,
   "metadata": {},
   "outputs": [],
   "source": [
    "type(pets)"
   ]
  },
  {
   "cell_type": "markdown",
   "metadata": {},
   "source": [
    "### iterators\n",
    "- think of iterator as a value factory\n",
    "- it knows current value and when you ask next, it goes and fetch it for you almost magically, well sort of...\n",
    "- it keeps your place in sequence, and it always has next() method"
   ]
  },
  {
   "cell_type": "code",
   "execution_count": null,
   "metadata": {},
   "outputs": [],
   "source": [
    "# let's create an iterator object\n",
    "x = iter(pets) # x is iterator\n",
    "next(x)"
   ]
  },
  {
   "cell_type": "code",
   "execution_count": null,
   "metadata": {},
   "outputs": [],
   "source": [
    "type(x)"
   ]
  },
  {
   "cell_type": "markdown",
   "metadata": {},
   "source": [
    "### generators\n",
    "- generators are special kind of iterators\n",
    "- generator is a factory which lazily produces values\n",
    "- there are generator functions (using yield) and comprehensions\n",
    "- generators are excellent memory savers, use as often"
   ]
  },
  {
   "cell_type": "code",
   "execution_count": null,
   "metadata": {},
   "outputs": [],
   "source": [
    "# generator function using yield keyword\n",
    "# don't worry if you don't get it now\n",
    "from itertools import islice\n",
    "\n",
    "def fibonacchi():\n",
    "    previous, current = 0, 1\n",
    "    while True:\n",
    "        yield current # see use of yield here\n",
    "        previous, current = current, previous + current\n",
    "            \n",
    "some_function = fibonacchi()\n",
    "\n",
    "list(islice(some_function, 0, 10))\n",
    "\n",
    "# homework\n",
    "# learn itetools module in python\n"
   ]
  },
  {
   "cell_type": "code",
   "execution_count": null,
   "metadata": {},
   "outputs": [],
   "source": [
    "# list comprehension\n",
    "squares_list_comp = [x * x for x in range(1, 11)]\n",
    "squares_list_comp"
   ]
  },
  {
   "cell_type": "code",
   "execution_count": null,
   "metadata": {},
   "outputs": [],
   "source": [
    "# generator comprehension\n",
    "# this created a generator object\n",
    "squares_gen_comp = (x * x for x in range(1, 11))\n",
    "squares_gen_comp"
   ]
  },
  {
   "cell_type": "code",
   "execution_count": null,
   "metadata": {},
   "outputs": [],
   "source": [
    "# convert it into a list\n",
    "list(squares_gen_comp)"
   ]
  },
  {
   "cell_type": "code",
   "execution_count": null,
   "metadata": {},
   "outputs": [],
   "source": [
    "%%timeit\n",
    "# let's check timings\n",
    "squared_lc = [x * x for x in range(1, 100000)]\n"
   ]
  },
  {
   "cell_type": "code",
   "execution_count": null,
   "metadata": {},
   "outputs": [],
   "source": [
    "%%timeit\n",
    "# generators are lightening fast\n",
    "squared_gc = (x * x for x in range(1, 100000))"
   ]
  },
  {
   "cell_type": "code",
   "execution_count": null,
   "metadata": {},
   "outputs": [],
   "source": [
    "%load_ext memory_profiler"
   ]
  },
  {
   "cell_type": "code",
   "execution_count": null,
   "metadata": {},
   "outputs": [],
   "source": [
    "%memit squared_gc = (x * x for x in range(1, 100000))"
   ]
  },
  {
   "cell_type": "code",
   "execution_count": null,
   "metadata": {},
   "outputs": [],
   "source": [
    "%memit squared_lc = [x * x for x in range(1, 100000)]"
   ]
  },
  {
   "cell_type": "code",
   "execution_count": null,
   "metadata": {},
   "outputs": [],
   "source": []
  }
 ],
 "metadata": {
  "kernelspec": {
   "display_name": "Python 3",
   "language": "python",
   "name": "python3"
  },
  "language_info": {
   "codemirror_mode": {
    "name": "ipython",
    "version": 3
   },
   "file_extension": ".py",
   "mimetype": "text/x-python",
   "name": "python",
   "nbconvert_exporter": "python",
   "pygments_lexer": "ipython3",
   "version": "3.7.6"
  }
 },
 "nbformat": 4,
 "nbformat_minor": 4
}
