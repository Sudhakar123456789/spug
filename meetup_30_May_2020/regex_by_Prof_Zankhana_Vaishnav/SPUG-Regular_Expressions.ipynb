{
 "cells": [
  {
   "cell_type": "raw",
   "metadata": {},
   "source": [
    "# A Regular Expressions is a special sequence of characters that defines a pattern for complex string-matching functionality.\n",
    "\n",
    "- It is  also called REs, or regexes, or regex patterns.\n",
    "- Using it you can specify the rules for the set of possible strings that you want to match.\n",
    "- It is a more sophisticated pattern-matching capabilities then common string operators or built in functions.\n",
    "- Python provides RE module for Regular Expressions."
   ]
  },
  {
   "cell_type": "raw",
   "metadata": {},
   "source": [
    "# The re Module\n",
    "Regex functionality in Python resides in a module named re. The re module contains many useful functions and methods.\n"
   ]
  },
  {
   "cell_type": "code",
   "execution_count": null,
   "metadata": {},
   "outputs": [],
   "source": [
    "import re"
   ]
  },
  {
   "cell_type": "raw",
   "metadata": {},
   "source": [
    "--> re.search(<regex>, <string>)\n",
    "it scans <string> looking for the first location where the pattern <regex> matches. \n",
    "If a match is found, then it returns a match object. Otherwise, it returns None\n"
   ]
  },
  {
   "cell_type": "code",
   "execution_count": null,
   "metadata": {},
   "outputs": [],
   "source": [
    "s = 'SuratPythonGroup2020'\n",
    "re.search('Python', s)\n"
   ]
  },
  {
   "cell_type": "code",
   "execution_count": null,
   "metadata": {},
   "outputs": [],
   "source": [
    "s = 'Surat Python Group 2020'\n",
    "re.search('Py', s)\n"
   ]
  },
  {
   "cell_type": "code",
   "execution_count": null,
   "metadata": {},
   "outputs": [],
   "source": [
    "(re. search('20', s))"
   ]
  },
  {
   "cell_type": "code",
   "execution_count": null,
   "metadata": {},
   "outputs": [],
   "source": [
    "print(re.search('123', s))"
   ]
  },
  {
   "cell_type": "code",
   "execution_count": null,
   "metadata": {},
   "outputs": [],
   "source": [
    "if re.search('123', s):         # because match object is a \"truty\" object\n",
    "    print('Found a match.')\n",
    "else:\n",
    "    print('No match.')"
   ]
  },
  {
   "cell_type": "raw",
   "metadata": {},
   "source": [
    "\n",
    "--> Python Regex Metacharacters\n",
    "- They have a unique meaning to the regex matching engine and vastly enhance the capability of the search\n"
   ]
  },
  {
   "cell_type": "code",
   "execution_count": null,
   "metadata": {},
   "outputs": [],
   "source": [
    "# A set of characters specified in square brackets ([]) makes up a character class.\n",
    "# This metacharacter sequence matches any single character from the characrter class.\n",
    "\n",
    "s = 'SuratPython3Group2020'\n",
    "re.search('[0-9][0-9]', s)   # [0-9] matches any single decimal digit character—any character between '0' and '9', inclusive."
   ]
  },
  {
   "cell_type": "code",
   "execution_count": null,
   "metadata": {},
   "outputs": [],
   "source": [
    "re.search('[a-z\\-]', '28-2020')"
   ]
  },
  {
   "cell_type": "code",
   "execution_count": null,
   "metadata": {},
   "outputs": [],
   "source": [
    "# The dot (.) metacharacter matches any character except a newline.\n",
    "\n",
    "s = 'foo123bar'\n",
    "re.search('1.3', s)"
   ]
  },
  {
   "cell_type": "code",
   "execution_count": null,
   "metadata": {},
   "outputs": [],
   "source": [
    "print(re. search('1..3',s))"
   ]
  },
  {
   "cell_type": "code",
   "execution_count": null,
   "metadata": {},
   "outputs": [],
   "source": [
    "re.search('ba[rtny]', 'bar bat ban bay') "
   ]
  },
  {
   "cell_type": "raw",
   "metadata": {},
   "source": [
    "# re.search() scans the search string from left to right, and as soon as it locates a match for <regex>, it stops scanning and returns the match."
   ]
  },
  {
   "cell_type": "code",
   "execution_count": null,
   "metadata": {},
   "outputs": [],
   "source": [
    "re.search('ba[^rtny]', 'bar bat ban bay bad')"
   ]
  },
  {
   "cell_type": "raw",
   "metadata": {},
   "source": [
    "Character(s)\tMeaning\n",
    "\n",
    ".               Matches any single character except newline\n",
    "\n",
    "^            \t-- Anchors a match at the start of a string\n",
    "                -- Complements a character class\n",
    "    \n",
    "$            \tAnchors a match at the end of a string\n",
    "*            \tMatches zero or more repetitions\n",
    "+            \tMatches one or more repetitions\n",
    "\n",
    "?            \t-- Matches zero or one repetition\n",
    "                -- Specifies the non-greedy versions of *, +, and ?\n",
    "                -- Introduces a lookahead or lookbehind assertion\n",
    "                -- Creates a named group\n",
    "\n",
    "{}           \tMatches an explicitly specified number of repetitions\n",
    "\n",
    "\\            \t-- Escapes a metacharacter of its special meaning\n",
    "                -- Introduces a special character class\n",
    "                -- Introduces a grouping backreference\n",
    "\n",
    "[]           \tSpecifies a character class\n",
    "|            \tDesignates alternation"
   ]
  },
  {
   "cell_type": "code",
   "execution_count": null,
   "metadata": {},
   "outputs": [],
   "source": [
    "str = 'This; is the: \"core\" Python\\'s'\n",
    "result = re.split('\\W+', str) # \\w - represents any one alpha numeric character, i.e equivalent to [a-zA-Z0-9_]\n",
    "print(result)"
   ]
  },
  {
   "cell_type": "code",
   "execution_count": null,
   "metadata": {},
   "outputs": [],
   "source": [
    "re.split('\\w+', str) # \\W – represents any character that is not alpha numeric."
   ]
  },
  {
   "cell_type": "raw",
   "metadata": {},
   "source": [
    "A method split() that splits the given string into pieces according to the regular expression and returns the pieces as elements of a list.\n",
    "\n",
    "sub() method is used to find a string and then replace it with a new string."
   ]
  },
  {
   "cell_type": "code",
   "execution_count": null,
   "metadata": {},
   "outputs": [],
   "source": [
    "str = 'Kumbhmela will be conducted at Ahmedabad in India.'\n",
    "res = re.sub('Ahmedabad', 'Allahabad', str)\n",
    "print(res)\n",
    "print(str)"
   ]
  },
  {
   "cell_type": "code",
   "execution_count": null,
   "metadata": {},
   "outputs": [],
   "source": [
    "str = 'an apple a day keeps the doctor away'\n",
    "re.findall('a[\\w]*', str)\n"
   ]
  },
  {
   "cell_type": "code",
   "execution_count": null,
   "metadata": {},
   "outputs": [],
   "source": [
    "str = 'The meeting will be conducted on 1st and 21st of every month'\n",
    "result = re.findall('\\d[\\w]*', str)  # \\d matches any decimal digit character. \\D is the opposite\n"
   ]
  },
  {
   "cell_type": "raw",
   "metadata": {},
   "source": [
    "compile() method is used to compile a regular expression pattern into a regular expression object, which can be used for matching using its match() and search() methods"
   ]
  },
  {
   "cell_type": "code",
   "execution_count": null,
   "metadata": {},
   "outputs": [],
   "source": [
    "obj = re.compile(r'a[nk][\\w]*')\n",
    "result = obj.match('anil akhil anant arun arati arundhati abhijit ankur')\n",
    "print(result)"
   ]
  },
  {
   "cell_type": "code",
   "execution_count": null,
   "metadata": {},
   "outputs": [],
   "source": [
    "str = 'vijay 20 1-5-2001, Rohit 21 22-10-1990, sita 22 15-09-2000'\n",
    "res = re.findall('\\d{1,2}-\\d{1,2}-\\d{4}', str) \n",
    "print(res)"
   ]
  },
  {
   "cell_type": "raw",
   "metadata": {},
   "source": [
    "{m,n} --> Causes the resulting RE to match from m to n repetitions of the preceding RE, attempting to match as many repetitions as possible. "
   ]
  },
  {
   "cell_type": "code",
   "execution_count": null,
   "metadata": {},
   "outputs": [],
   "source": [
    "str = 'ab aab aaab aaaab aaaaab aaaaaab aaaaaaaaaaaaaaaab b'\n",
    "res = re.findall('a{3,5}b', str) \n",
    "print(res)"
   ]
  },
  {
   "cell_type": "code",
   "execution_count": null,
   "metadata": {},
   "outputs": [],
   "source": [
    "re.findall('a*b', str)  # + can alsobe used"
   ]
  },
  {
   "cell_type": "code",
   "execution_count": null,
   "metadata": {},
   "outputs": [],
   "source": [
    "re.findall('(ab)+', 'ab abab abababb bbbbabbb aaa bbb')"
   ]
  },
  {
   "cell_type": "raw",
   "metadata": {},
   "source": [
    "Backreference --> You can match a previously captured group later within the same regex using a special metacharacter sequence called a backreference."
   ]
  },
  {
   "cell_type": "code",
   "execution_count": null,
   "metadata": {},
   "outputs": [],
   "source": [
    "re.findall(r'(\\w+),\\1','foo,foo bar,bar foo,bar') "
   ]
  },
  {
   "cell_type": "code",
   "execution_count": null,
   "metadata": {},
   "outputs": [],
   "source": [
    "re.search(r'([a-z])#\\1', 'd#d a#a a#b c#d')"
   ]
  },
  {
   "cell_type": "code",
   "execution_count": null,
   "metadata": {},
   "outputs": [],
   "source": []
  }
 ],
 "metadata": {
  "kernelspec": {
   "display_name": "Python 3",
   "language": "python",
   "name": "python3"
  },
  "language_info": {
   "codemirror_mode": {
    "name": "ipython",
    "version": 3
   },
   "file_extension": ".py",
   "mimetype": "text/x-python",
   "name": "python",
   "nbconvert_exporter": "python",
   "pygments_lexer": "ipython3",
   "version": "3.7.6"
  }
 },
 "nbformat": 4,
 "nbformat_minor": 4
}
