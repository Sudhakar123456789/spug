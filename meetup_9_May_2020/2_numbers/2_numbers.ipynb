{
 "cells": [
  {
   "cell_type": "markdown",
   "metadata": {},
   "source": [
    "## builtin types\n",
    "### computer can process information like numbers and characters\n",
    "### the kinds of information the computer language is able to handle are known as types\n",
    "### many common types are built into Python, for example, integers, floats, strings, booleans etc."
   ]
  },
  {
   "cell_type": "code",
   "execution_count": 1,
   "metadata": {},
   "outputs": [
    {
     "name": "stdout",
     "output_type": "stream",
     "text": [
      "1234\n",
      "<class 'int'>\n"
     ]
    }
   ],
   "source": [
    "# integers\n",
    "# an int type is a whole number, for example, 1, 5, 1234\n",
    "print(1234)\n",
    "print(type(1234))"
   ]
  },
  {
   "cell_type": "code",
   "execution_count": 2,
   "metadata": {},
   "outputs": [
    {
     "name": "stdout",
     "output_type": "stream",
     "text": [
      "5\n"
     ]
    }
   ],
   "source": [
    "# operations\n",
    "# addition\n",
    "print(2 + 3)"
   ]
  },
  {
   "cell_type": "code",
   "execution_count": 3,
   "metadata": {},
   "outputs": [
    {
     "name": "stdout",
     "output_type": "stream",
     "text": [
      "10\n"
     ]
    }
   ],
   "source": [
    "# substraction\n",
    "print(15 - 5)"
   ]
  },
  {
   "cell_type": "code",
   "execution_count": 4,
   "metadata": {},
   "outputs": [
    {
     "name": "stdout",
     "output_type": "stream",
     "text": [
      "30\n"
     ]
    }
   ],
   "source": [
    "# multiplication\n",
    "print(5 * 6)"
   ]
  },
  {
   "cell_type": "code",
   "execution_count": 5,
   "metadata": {},
   "outputs": [
    {
     "name": "stdout",
     "output_type": "stream",
     "text": [
      "2\n"
     ]
    }
   ],
   "source": [
    "# integer division\n",
    "print(28 // 10)\n"
   ]
  },
  {
   "cell_type": "code",
   "execution_count": 6,
   "metadata": {},
   "outputs": [
    {
     "name": "stdout",
     "output_type": "stream",
     "text": [
      "8\n"
     ]
    }
   ],
   "source": [
    "# modulus (remainder)\n",
    "print(28 % 10)"
   ]
  },
  {
   "cell_type": "code",
   "execution_count": 7,
   "metadata": {},
   "outputs": [
    {
     "name": "stdout",
     "output_type": "stream",
     "text": [
      "4294967296\n"
     ]
    }
   ],
   "source": [
    "# power or exponent\n",
    "print(2 ** 32)"
   ]
  },
  {
   "cell_type": "code",
   "execution_count": 8,
   "metadata": {},
   "outputs": [
    {
     "name": "stdout",
     "output_type": "stream",
     "text": [
      "10000000000.0\n",
      "15.5\n",
      "<class 'float'>\n"
     ]
    }
   ],
   "source": [
    "# floating-point numbers\n",
    "# Floating-point numbers (float type) are numbers with a decimal point or an exponent (or both)\n",
    "print(1e10)\n",
    "print(15.5)\n",
    "print(type(15.5))"
   ]
  },
  {
   "cell_type": "code",
   "execution_count": 9,
   "metadata": {},
   "outputs": [
    {
     "name": "stdout",
     "output_type": "stream",
     "text": [
      "number is 13.35\n"
     ]
    }
   ],
   "source": [
    "# printing with two decimal points\n",
    "print(\"number is {:.2f}\".format(13.3456))"
   ]
  },
  {
   "cell_type": "code",
   "execution_count": null,
   "metadata": {},
   "outputs": [],
   "source": [
    "# good to know\n",
    "# floating point standard conforms to IEEE 754 in Python\n",
    "# Python’s floating-point numbers have a limited range, \n",
    "# the largest floating-point number that can be represented in Python is 2**1023.\n"
   ]
  },
  {
   "cell_type": "markdown",
   "metadata": {},
   "source": [
    "### Python has three other types dealing with numbers\n",
    "- **complex** (like floating point but for complex numbers; try 1+5j)\n",
    "- **Fraction** (for rational numbers; available in the fractions module)\n",
    "- **Decimal** (for decimal floating-point arithmetic; available in the decimal module)."
   ]
  },
  {
   "cell_type": "code",
   "execution_count": 10,
   "metadata": {},
   "outputs": [
    {
     "name": "stdout",
     "output_type": "stream",
     "text": [
      "area is: 105.53435999999999\n",
      "area rounded to 2 decimal place: 105.53\n"
     ]
    }
   ],
   "source": [
    "# let's find area of a triangle\n",
    "# formula is easy, area = (1/2) * base * height\n",
    "\n",
    "base = 10.26\n",
    "height = 20.572\n",
    "area = (1/2) * base * height\n",
    "\n",
    "print(\"area is:\", area) # area is: 105.53435999999999\n",
    "\n",
    "# to show area till 2 decimal places\n",
    "print(\"area rounded to 2 decimal place:\", round(area,2)) # 105.53"
   ]
  },
  {
   "cell_type": "code",
   "execution_count": 11,
   "metadata": {},
   "outputs": [
    {
     "name": "stdout",
     "output_type": "stream",
     "text": [
      "3\n",
      "0.5\n",
      "2\n",
      "9\n",
      "16\n",
      "36\n"
     ]
    }
   ],
   "source": [
    "# basic airthmetic using numbers\n",
    "print(1 + 2) # 3\n",
    "print(1 / 2) # 0.5\n",
    "print(17 % 3) # 2\n",
    "print(3 ** 2) # 9\n",
    "print(10 + 2 * 3) # 16\n",
    "print((10 + 2) * 3) # 36"
   ]
  },
  {
   "cell_type": "code",
   "execution_count": 12,
   "metadata": {},
   "outputs": [
    {
     "name": "stdout",
     "output_type": "stream",
     "text": [
      "<class 'float'>\n",
      "0.0023\n",
      "<class 'int'>\n",
      "18\n",
      "<class 'int'>\n",
      "<class 'complex'>\n",
      "(5-1j)\n"
     ]
    }
   ],
   "source": [
    "# Number data types (int, float, complex numbers)\n",
    "print(type(area)) # float\n",
    "\n",
    "foo = 2.3e-3\n",
    "print(foo) # 0.0023\n",
    "\n",
    "print(type(1)) # int\n",
    "\n",
    "print(0x12) # 18\n",
    "print(type(0x12)) # int\n",
    "\n",
    "c1 = 2 + 3j\n",
    "print(type(c1)) # complex\n",
    "\n",
    "c2 = 3 - 4j\n",
    "print(c1 + c2) # 5-j"
   ]
  },
  {
   "cell_type": "code",
   "execution_count": 13,
   "metadata": {},
   "outputs": [],
   "source": [
    "# have fun with math, may the force be with you\n",
    "import math # easy peasy"
   ]
  },
  {
   "cell_type": "code",
   "execution_count": 14,
   "metadata": {},
   "outputs": [
    {
     "data": {
      "text/plain": [
       "120"
      ]
     },
     "execution_count": 14,
     "metadata": {},
     "output_type": "execute_result"
    }
   ],
   "source": [
    "# find factorial of 10\n",
    "math.factorial(5)"
   ]
  },
  {
   "cell_type": "code",
   "execution_count": 15,
   "metadata": {},
   "outputs": [
    {
     "data": {
      "text/plain": [
       "2.718281828459045"
      ]
     },
     "execution_count": 15,
     "metadata": {},
     "output_type": "execute_result"
    }
   ],
   "source": [
    "# what is a Euler's number\n",
    "math.e"
   ]
  },
  {
   "cell_type": "code",
   "execution_count": 16,
   "metadata": {},
   "outputs": [
    {
     "data": {
      "text/plain": [
       "3.141592653589793"
      ]
     },
     "execution_count": 16,
     "metadata": {},
     "output_type": "execute_result"
    }
   ],
   "source": [
    "# what about pi, no not a raspberry pi silly\n",
    "math.pi"
   ]
  },
  {
   "cell_type": "code",
   "execution_count": 17,
   "metadata": {},
   "outputs": [
    {
     "data": {
      "text/plain": [
       "inf"
      ]
     },
     "execution_count": 17,
     "metadata": {},
     "output_type": "execute_result"
    }
   ],
   "source": [
    "# can you do infinity?\n",
    "math.inf"
   ]
  },
  {
   "cell_type": "code",
   "execution_count": 18,
   "metadata": {},
   "outputs": [
    {
     "data": {
      "text/plain": [
       "nan"
      ]
     },
     "execution_count": 18,
     "metadata": {},
     "output_type": "execute_result"
    }
   ],
   "source": [
    "# how about not a number\n",
    "math.nan"
   ]
  },
  {
   "cell_type": "code",
   "execution_count": 19,
   "metadata": {},
   "outputs": [
    {
     "data": {
      "text/plain": [
       "5"
      ]
     },
     "execution_count": 19,
     "metadata": {},
     "output_type": "execute_result"
    }
   ],
   "source": [
    "# gcd\n",
    "math.gcd(15, 20)"
   ]
  },
  {
   "cell_type": "code",
   "execution_count": 20,
   "metadata": {},
   "outputs": [
    {
     "data": {
      "text/plain": [
       "1.3862943611198906"
      ]
     },
     "execution_count": 20,
     "metadata": {},
     "output_type": "execute_result"
    }
   ],
   "source": [
    "# how abot a log function\n",
    "math.log(4)"
   ]
  },
  {
   "cell_type": "code",
   "execution_count": null,
   "metadata": {},
   "outputs": [],
   "source": []
  }
 ],
 "metadata": {
  "kernelspec": {
   "display_name": "Python 3",
   "language": "python",
   "name": "python3"
  },
  "language_info": {
   "codemirror_mode": {
    "name": "ipython",
    "version": 3
   },
   "file_extension": ".py",
   "mimetype": "text/x-python",
   "name": "python",
   "nbconvert_exporter": "python",
   "pygments_lexer": "ipython3",
   "version": "3.7.6"
  }
 },
 "nbformat": 4,
 "nbformat_minor": 4
}
